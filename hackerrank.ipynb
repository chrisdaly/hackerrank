{
 "cells": [
  {
   "cell_type": "code",
   "execution_count": null,
   "id": "ea960298",
   "metadata": {},
   "outputs": [],
   "source": [
    "def getElements(arr, queries):\n",
    "    n, l = arr[0], arr[1:]\n",
    "    data = [l[i:i + n] for i in range(0, len(l), n)]\n",
    "    answer = [data[q[0]-1][q[1]-1] for q in queries]\n",
    "        \n",
    "    return answer"
   ]
  },
  {
   "cell_type": "code",
   "execution_count": null,
   "id": "70809d14",
   "metadata": {},
   "outputs": [],
   "source": [
    "#\n",
    "# Complete the 'predictMissingHumidity' function below.\n",
    "#\n",
    "# The function is expected to return a FLOAT_ARRAY.\n",
    "# The function accepts following parameters:\n",
    "#  1. STRING startDate\n",
    "#  2. STRING endDate\n",
    "#  3. STRING_ARRAY knownTimestamps\n",
    "#  4. FLOAT_ARRAY humidity\n",
    "#  5. STRING_ARRAY timestamps\n",
    "#\n",
    "import pandas as pd\n",
    "\n",
    "\n",
    "def predictMissingHumidity(startDate, endDate, knownTimestamps, humidity, timestamps):\n",
    "    df = pd.DataFrame()\n",
    "    df[\"datetime\"] = pd.to_datetime(knownTimestamps)\n",
    "    df[\"humidity\"] = humidity\n",
    "    df.set_index(df['datetime'], inplace=True, drop=True)\n",
    "    df = df.drop(columns=[\"datetime\"])\n",
    "    \n",
    "    df = df.resample('H')\n",
    "    df = df.interpolate(method='time', limit_direction='both')\n",
    "    df = df.reset_index()\n",
    "    \n",
    "    df1 = pd.DataFrame()\n",
    "    df1[\"datetime\"] = pd.to_datetime(timestamps)\n",
    "    \n",
    "    predictions = list(pd.merge(df, df1, on=\"datetime\", how=\"right\")[\"humidity\"])\n",
    "    \n",
    "    return predictions"
   ]
  }
 ],
 "metadata": {
  "kernelspec": {
   "display_name": "Python 3 (ipykernel)",
   "language": "python",
   "name": "python3"
  },
  "language_info": {
   "codemirror_mode": {
    "name": "ipython",
    "version": 3
   },
   "file_extension": ".py",
   "mimetype": "text/x-python",
   "name": "python",
   "nbconvert_exporter": "python",
   "pygments_lexer": "ipython3",
   "version": "3.9.12"
  }
 },
 "nbformat": 4,
 "nbformat_minor": 5
}
